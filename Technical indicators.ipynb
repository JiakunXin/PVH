{
 "cells": [
  {
   "cell_type": "markdown",
   "metadata": {},
   "source": [
    "<h2>Read Data"
   ]
  },
  {
   "cell_type": "code",
   "execution_count": 1,
   "metadata": {},
   "outputs": [],
   "source": [
    "import pandas as pd\n",
    "import numpy as np\n",
    "import talib"
   ]
  },
  {
   "cell_type": "code",
   "execution_count": 2,
   "metadata": {},
   "outputs": [],
   "source": [
    "PVH = pd.read_csv('PVH.csv',index_col=0)\n",
    "NKE = pd.read_csv('NKE.csv',index_col=0) \n",
    "GPC = pd.read_csv('GPC.csv',index_col=0)\n",
    "TSCO = pd.read_csv('TSCO.csv',index_col=0)\n",
    "WMT = pd.read_csv('WMT.csv',index_col=0)\n",
    "SHW = pd.read_csv('SHW.csv',index_col=0)\n",
    "HLT = pd.read_csv('HLT.csv',index_col=0)\n",
    "MAR = pd.read_csv('MAR.csv',index_col=0)\n",
    "CCL = pd.read_csv('CCL.csv',index_col=0)\n",
    "NCLH = pd.read_csv('NCLH.csv',index_col=0)\n",
    "RCL = pd.read_csv('RCL.csv',index_col=0)\n",
    "V = pd.read_csv('V.csv',index_col=0)\n",
    "MA = pd.read_csv('MA.csv',index_col=0)"
   ]
  },
  {
   "cell_type": "code",
   "execution_count": 3,
   "metadata": {},
   "outputs": [
    {
     "data": {
      "text/html": [
       "<div>\n",
       "<style scoped>\n",
       "    .dataframe tbody tr th:only-of-type {\n",
       "        vertical-align: middle;\n",
       "    }\n",
       "\n",
       "    .dataframe tbody tr th {\n",
       "        vertical-align: top;\n",
       "    }\n",
       "\n",
       "    .dataframe thead th {\n",
       "        text-align: right;\n",
       "    }\n",
       "</style>\n",
       "<table border=\"1\" class=\"dataframe\">\n",
       "  <thead>\n",
       "    <tr style=\"text-align: right;\">\n",
       "      <th></th>\n",
       "      <th>Open</th>\n",
       "      <th>High</th>\n",
       "      <th>Low</th>\n",
       "      <th>Close</th>\n",
       "      <th>Volume</th>\n",
       "    </tr>\n",
       "    <tr>\n",
       "      <th>Dates</th>\n",
       "      <th></th>\n",
       "      <th></th>\n",
       "      <th></th>\n",
       "      <th></th>\n",
       "      <th></th>\n",
       "    </tr>\n",
       "  </thead>\n",
       "  <tbody>\n",
       "    <tr>\n",
       "      <td>2011-12-15</td>\n",
       "      <td>25.00</td>\n",
       "      <td>25.23</td>\n",
       "      <td>23.51</td>\n",
       "      <td>24.20</td>\n",
       "      <td>42261341</td>\n",
       "    </tr>\n",
       "    <tr>\n",
       "      <td>2011-12-16</td>\n",
       "      <td>24.45</td>\n",
       "      <td>24.80</td>\n",
       "      <td>23.51</td>\n",
       "      <td>24.10</td>\n",
       "      <td>3998809</td>\n",
       "    </tr>\n",
       "    <tr>\n",
       "      <td>2011-12-19</td>\n",
       "      <td>24.50</td>\n",
       "      <td>25.09</td>\n",
       "      <td>24.31</td>\n",
       "      <td>24.88</td>\n",
       "      <td>3246130</td>\n",
       "    </tr>\n",
       "    <tr>\n",
       "      <td>2011-12-20</td>\n",
       "      <td>25.02</td>\n",
       "      <td>25.76</td>\n",
       "      <td>25.02</td>\n",
       "      <td>25.45</td>\n",
       "      <td>1710133</td>\n",
       "    </tr>\n",
       "    <tr>\n",
       "      <td>2011-12-21</td>\n",
       "      <td>25.64</td>\n",
       "      <td>26.78</td>\n",
       "      <td>25.46</td>\n",
       "      <td>26.55</td>\n",
       "      <td>2501413</td>\n",
       "    </tr>\n",
       "    <tr>\n",
       "      <td>...</td>\n",
       "      <td>...</td>\n",
       "      <td>...</td>\n",
       "      <td>...</td>\n",
       "      <td>...</td>\n",
       "      <td>...</td>\n",
       "    </tr>\n",
       "    <tr>\n",
       "      <td>2019-11-11</td>\n",
       "      <td>36.35</td>\n",
       "      <td>36.50</td>\n",
       "      <td>35.93</td>\n",
       "      <td>36.36</td>\n",
       "      <td>2552326</td>\n",
       "    </tr>\n",
       "    <tr>\n",
       "      <td>2019-11-12</td>\n",
       "      <td>36.65</td>\n",
       "      <td>38.06</td>\n",
       "      <td>36.20</td>\n",
       "      <td>36.55</td>\n",
       "      <td>2587964</td>\n",
       "    </tr>\n",
       "    <tr>\n",
       "      <td>2019-11-13</td>\n",
       "      <td>36.20</td>\n",
       "      <td>36.20</td>\n",
       "      <td>35.51</td>\n",
       "      <td>35.93</td>\n",
       "      <td>1820703</td>\n",
       "    </tr>\n",
       "    <tr>\n",
       "      <td>2019-11-14</td>\n",
       "      <td>35.93</td>\n",
       "      <td>36.29</td>\n",
       "      <td>35.79</td>\n",
       "      <td>35.86</td>\n",
       "      <td>1561660</td>\n",
       "    </tr>\n",
       "    <tr>\n",
       "      <td>2019-11-15</td>\n",
       "      <td>36.26</td>\n",
       "      <td>37.11</td>\n",
       "      <td>35.98</td>\n",
       "      <td>36.74</td>\n",
       "      <td>2582331</td>\n",
       "    </tr>\n",
       "  </tbody>\n",
       "</table>\n",
       "<p>1993 rows × 5 columns</p>\n",
       "</div>"
      ],
      "text/plain": [
       "             Open   High    Low  Close    Volume\n",
       "Dates                                           \n",
       "2011-12-15  25.00  25.23  23.51  24.20  42261341\n",
       "2011-12-16  24.45  24.80  23.51  24.10   3998809\n",
       "2011-12-19  24.50  25.09  24.31  24.88   3246130\n",
       "2011-12-20  25.02  25.76  25.02  25.45   1710133\n",
       "2011-12-21  25.64  26.78  25.46  26.55   2501413\n",
       "...           ...    ...    ...    ...       ...\n",
       "2019-11-11  36.35  36.50  35.93  36.36   2552326\n",
       "2019-11-12  36.65  38.06  36.20  36.55   2587964\n",
       "2019-11-13  36.20  36.20  35.51  35.93   1820703\n",
       "2019-11-14  35.93  36.29  35.79  35.86   1561660\n",
       "2019-11-15  36.26  37.11  35.98  36.74   2582331\n",
       "\n",
       "[1993 rows x 5 columns]"
      ]
     },
     "execution_count": 3,
     "metadata": {},
     "output_type": "execute_result"
    }
   ],
   "source": [
    "\n",
    "CPRI = pd.read_excel('cpri_bb.xlsx',index_col=0)\n",
    "CPRI = CPRI.rename(columns={'PX_OPEN':'Open','PX_HIGH':'High',\n",
    "                           'PX_LOW':'Low','PX_LAST':'Close','PX_VOLUME':'Volume'})\n",
    "CPRI"
   ]
  },
  {
   "cell_type": "markdown",
   "metadata": {},
   "source": [
    "<h2>MACD: Moving Average Convergence Divergence</h2>\n",
    "\n",
    "The default parameters used are (12,26,9):\n",
    "\\begin{align}\n",
    "&MACD = EMA_{12}(CLOSE) - EMA_{26}(CLOSE)\\\\\n",
    "&Signal = EMA_{9}(MACD)\n",
    "\\end{align}\n",
    "\n",
    "<b>Usage</b>: \n",
    "<ol>\n",
    "<li>Buy signal: when MACD line crosses above the signal line;\n",
    "<li>Sell/short signal: when MACK line crosses below the signal line;\n",
    "</ol>\n",
    "Actually, it is the change of macdhist that matters.\n",
    "\n",
    "<b>Other parameters</b>: (8,17,9),(3,10,16) and (5,35,5); "
   ]
  },
  {
   "cell_type": "code",
   "execution_count": 5,
   "metadata": {},
   "outputs": [],
   "source": [
    "parameters = [(12,26,9),(24,52,9),(5,42,5),(34,89,34),(5,26,5)]"
   ]
  },
  {
   "cell_type": "code",
   "execution_count": 6,
   "metadata": {},
   "outputs": [],
   "source": [
    "# For macd, the position of the first non-NaN value is the same as position for the first non-NaN valoe of macdsignal\n",
    "\n",
    "def MACD(stock,parameters):\n",
    "    \"\"\"\n",
    "    1. Calculate MACD/MACDSignal/MACDHist with given parameters;\n",
    "    2. Merge the Calculated MACDs to the originial dataframe;\n",
    "    \"\"\"\n",
    "    \n",
    "    for parameter in parameters:\n",
    "        fastperiod = parameter[0]\n",
    "        slowperiod = parameter[1]\n",
    "        signalperiod = parameter[2]\n",
    "        \n",
    "        macd, macdsignal, macdhist = talib.MACD(stock['Close'], fastperiod=fastperiod,\n",
    "                                                slowperiod=slowperiod, signalperiod=signalperiod)\n",
    "        stock[f'MACD{fastperiod,slowperiod,signalperiod}'] = macd\n",
    "        stock[f'MACDSignal{fastperiod,slowperiod,signalperiod}'] = macdsignal\n",
    "    \n",
    "    return stock"
   ]
  },
  {
   "cell_type": "code",
   "execution_count": 7,
   "metadata": {},
   "outputs": [],
   "source": [
    "PVH = MACD(PVH,parameters)\n",
    "NKE = MACD(NKE,parameters) \n",
    "GPC = MACD(GPC,parameters)\n",
    "TSCO = MACD(TSCO,parameters)\n",
    "WMT = MACD(WMT,parameters)\n",
    "SHW = MACD(SHW,parameters)\n",
    "HLT = MACD(HLT,parameters)\n",
    "MAR = MACD(MAR,parameters)\n",
    "CCL = MACD(CCL,parameters)\n",
    "NCLH = MACD(NCLH,parameters)\n",
    "RCL = MACD(RCL,parameters)\n",
    "V = MACD(V,parameters)\n",
    "MA = MACD(MA,parameters)\n",
    "CPRI = MACD(CPRI,parameters)\n",
    "PVH_new = MACD(PVH_new,parameters)"
   ]
  },
  {
   "cell_type": "markdown",
   "metadata": {},
   "source": [
    "<h2> RSI: Relative Strength Index</h2>\n",
    "\n",
    "The default parameter for RSI is 14.\n",
    "\n",
    "\\begin{align}\n",
    "    &RS = \\frac{average\\ gain\\ over\\ last\\ 14\\ days}{average\\ loss\\ over\\ the\\ last\\ 14\\ days} \\\\\n",
    "    &RSI = 100 - 100/(1+RS)\n",
    "\\end{align}\n",
    "\n",
    "<b>Usage:</b> detect overbought/oversold;\n",
    "\n",
    "Overbought: >70;\n",
    "Oversold: <30;\n",
    "\n",
    "This indicator works better in the <b>choppy market</b>.\n",
    "\n",
    "<b>Other parameters</b>: 6/8/10/20\n",
    "\n",
    "Because we don't have return value on the initial date, the first value of RSI appears on the n+1 date."
   ]
  },
  {
   "cell_type": "code",
   "execution_count": 8,
   "metadata": {},
   "outputs": [],
   "source": [
    "parameters = [5,10,14,20,26]"
   ]
  },
  {
   "cell_type": "code",
   "execution_count": 9,
   "metadata": {},
   "outputs": [],
   "source": [
    "def RSI(stock,parameters):\n",
    "    \"\"\"\n",
    "    1. Calculate RSI with given parameters;\n",
    "    2. Merge the Calculated RSI to the originial dataframe;\n",
    "    \"\"\" \n",
    "    \n",
    "    for parameter in parameters:\n",
    "        rsi = talib.RSI(stock['Close'],timeperiod=parameter)\n",
    "        stock[f'RSI{parameter}'] = rsi\n",
    "        \n",
    "    return stock"
   ]
  },
  {
   "cell_type": "code",
   "execution_count": 10,
   "metadata": {},
   "outputs": [],
   "source": [
    "PVH = RSI(PVH,parameters)\n",
    "NKE = RSI(NKE,parameters) \n",
    "GPC = RSI(GPC,parameters)\n",
    "TSCO = RSI(TSCO,parameters)\n",
    "WMT = RSI(WMT,parameters)\n",
    "SHW = RSI(SHW,parameters)\n",
    "HLT = RSI(HLT,parameters)\n",
    "MAR = RSI(MAR,parameters)\n",
    "CCL = RSI(CCL,parameters)\n",
    "NCLH = RSI(NCLH,parameters)\n",
    "RCL = RSI(RCL,parameters)\n",
    "V = RSI(V,parameters)\n",
    "MA = RSI(MA,parameters)\n",
    "CPRI = RSI(CPRI,parameters)\n",
    "PVH_new = RSI(PVH_new,parameters)"
   ]
  },
  {
   "cell_type": "markdown",
   "metadata": {},
   "source": [
    "<h2>ROC: price rate of change</h2>\n",
    "\n",
    "reflects the percentage change in closing price.\n",
    "\\begin{equation}\n",
    "ROC_n(t) = \\frac{Close(t)-Close(t-n)}{Close(t-n)}*100\n",
    "\\end{equation}\n",
    "\n",
    "<b>Usage</b>: \n",
    "<ol>\n",
    "    <li>zeroline crossover generates buy/sell signal.</li>\n",
    "    <li>determineoverbought/oversold;</li>\n",
    "</ol>\n",
    "\n",
    "<b>Other parameters: 6/10/12/20/30"
   ]
  },
  {
   "cell_type": "code",
   "execution_count": 11,
   "metadata": {},
   "outputs": [],
   "source": [
    "parameters = [5,10,14,20,26]"
   ]
  },
  {
   "cell_type": "code",
   "execution_count": 12,
   "metadata": {},
   "outputs": [],
   "source": [
    "def ROC(stock,parameters):\n",
    "    \"\"\"\n",
    "    1. Calculate ROC with given parameters;\n",
    "    2. Merge the Calculated ROC to the originial dataframe;\n",
    "    \"\"\" \n",
    "    for parameter in parameters:\n",
    "        roc = talib.ROC(stock['Close'],timeperiod=parameter)\n",
    "        stock[f'ROC{parameter}'] = roc\n",
    "    return stock"
   ]
  },
  {
   "cell_type": "code",
   "execution_count": 13,
   "metadata": {},
   "outputs": [],
   "source": [
    "PVH = ROC(PVH,parameters)\n",
    "NKE = ROC(NKE,parameters) \n",
    "GPC = ROC(GPC,parameters)\n",
    "TSCO = ROC(TSCO,parameters)\n",
    "WMT = ROC(WMT,parameters)\n",
    "SHW = ROC(SHW,parameters)\n",
    "HLT = ROC(HLT,parameters)\n",
    "MAR = ROC(MAR,parameters)\n",
    "CCL = ROC(CCL,parameters)\n",
    "NCLH = ROC(NCLH,parameters)\n",
    "RCL = ROC(RCL,parameters)\n",
    "V = ROC(V,parameters)\n",
    "MA = ROC(MA,parameters)\n",
    "CPRI = ROC(CPRI,parameters)\n",
    "PVH_new = ROC(PVH_new,parameters)"
   ]
  },
  {
   "cell_type": "markdown",
   "metadata": {},
   "source": [
    "<h2>Stochastic Oscillator</h2>\n",
    "\n",
    "measures the level of the closing price relative to low-high range over a period of time.\n",
    "\n",
    "Default parameter: (14,3).\n",
    "\n",
    "\\begin{align}\n",
    "&\\%K=\\frac{Close-Low_{14}}{High_{14}-Low_{14}} \\\\\n",
    "&\\%D = 3\\ days\\ moving\\ average\\ of\\ \\%K\n",
    "\\end{align}\n",
    "\n",
    "This indicator is predicted on the assumption that close prices should close near the same direction as the current trend.\n",
    "\n",
    "<b>Usage:</b>\n",
    "<ol>\n",
    "    <li>%K greater than 80:overbought;%K less than 20:oversold;\n",
    "    <li>Buy signal: %K crosses up %D; Sell/short signal: %K crosses down %D;\n",
    "</ol>\n",
    "\n",
    "Therefore this indicator works better in <b>trending market</b>.\n"
   ]
  },
  {
   "cell_type": "code",
   "execution_count": 14,
   "metadata": {},
   "outputs": [],
   "source": [
    "parameters = [(5,3),(10,5),(14,5),(21,7),(21,14)]"
   ]
  },
  {
   "cell_type": "code",
   "execution_count": 15,
   "metadata": {},
   "outputs": [],
   "source": [
    "def STOCH(stock,parameters):\n",
    "    \"\"\"\n",
    "    1. Calculate STOCH with given parameters;\n",
    "    2. Merge the Calculated STOCH to the originial dataframe;\n",
    "    \"\"\" \n",
    "    for parameter in parameters:\n",
    "        fastk_period = parameter[0]\n",
    "        fastd_period = parameter[1]\n",
    "        fastk, fastd = talib.STOCHF(stock['High'], stock['Low'], stock['Close'], \n",
    "                              fastk_period=fastk_period, fastd_period=fastd_period, fastd_matype=0)\n",
    "        stock[f'%K{fastk_period,fastd_period}'] = fastk\n",
    "        stock[f'%D{fastk_period,fastd_period}'] = fastd\n",
    "    return stock"
   ]
  },
  {
   "cell_type": "code",
   "execution_count": 16,
   "metadata": {},
   "outputs": [],
   "source": [
    "PVH = STOCH(PVH,parameters)\n",
    "NKE = STOCH(NKE,parameters) \n",
    "GPC = STOCH(GPC,parameters)\n",
    "TSCO = STOCH(TSCO,parameters)\n",
    "WMT = STOCH(WMT,parameters)\n",
    "SHW = STOCH(SHW,parameters)\n",
    "HLT = STOCH(HLT,parameters)\n",
    "MAR = STOCH(MAR,parameters)\n",
    "CCL = STOCH(CCL,parameters)\n",
    "NCLH = STOCH(NCLH,parameters)\n",
    "RCL = STOCH(RCL,parameters)\n",
    "V = STOCH(V,parameters)\n",
    "MA = STOCH(MA,parameters)\n",
    "CPRI = STOCH(CPRI,parameters)\n",
    "PVH_new = STOCH(PVH_new,parameters)"
   ]
  },
  {
   "cell_type": "markdown",
   "metadata": {},
   "source": [
    "<h2>Williams' %R</h2>\n",
    "\n",
    "\\begin{equation}\n",
    "\\%R = -100*\\frac{High_{14}-Close}{High_{14}-Low_{14}}\n",
    "\\end{equation}\n",
    "\n",
    "Because it is similar to stochastic oscillator, we only set parameter to 14."
   ]
  },
  {
   "cell_type": "code",
   "execution_count": 17,
   "metadata": {},
   "outputs": [],
   "source": [
    "parameters = [5,10,14,20,28]"
   ]
  },
  {
   "cell_type": "code",
   "execution_count": 18,
   "metadata": {},
   "outputs": [],
   "source": [
    "def WILLR(stock,parameters):\n",
    "    \"\"\"\n",
    "    1. Calculate WILLR with given parameters;\n",
    "    2. Merge the Calculated WILLR to the originial dataframe;\n",
    "    \"\"\" \n",
    "    for parameter in parameters:\n",
    "        WilliamsR = talib.WILLR(stock['High'], stock['Low'], stock['Close'], timeperiod=parameter)\n",
    "        stock[f'WilliamsR{parameter}'] = WilliamsR\n",
    "    return stock"
   ]
  },
  {
   "cell_type": "code",
   "execution_count": 19,
   "metadata": {},
   "outputs": [],
   "source": [
    "PVH = WILLR(PVH,parameters)\n",
    "NKE = WILLR(NKE,parameters) \n",
    "GPC = WILLR(GPC,parameters)\n",
    "TSCO = WILLR(TSCO,parameters)\n",
    "WMT = WILLR(WMT,parameters)\n",
    "SHW = WILLR(SHW,parameters)\n",
    "HLT = WILLR(HLT,parameters)\n",
    "MAR = WILLR(MAR,parameters)\n",
    "CCL = WILLR(CCL,parameters)\n",
    "NCLH = WILLR(NCLH,parameters)\n",
    "RCL = WILLR(RCL,parameters)\n",
    "V = WILLR(V,parameters)\n",
    "MA = WILLR(MA,parameters)\n",
    "CPRI = WILLR(CPRI,parameters)\n",
    "PVH_new = WILLR(PVH_new,parameters)"
   ]
  },
  {
   "cell_type": "markdown",
   "metadata": {},
   "source": [
    "<h2>OBV: On Balance Volume</h2>\n",
    "\n",
    "\\begin{align}\n",
    "OBV_t = OBV_{t-1}+VOL_t (Close_t > Close_{t-1})  \\\\\n",
    "OBV_t = OBV_{t-1}-VOL_t (Close_t < Close_{t-1}) \n",
    "\\end{align}\n",
    "\n",
    "Look at the Volume"
   ]
  },
  {
   "cell_type": "code",
   "execution_count": 20,
   "metadata": {},
   "outputs": [],
   "source": [
    "def OBV(stock,parameters):\n",
    "    \"\"\"\n",
    "    1. Calculate OBV with given parameters;\n",
    "    2. Merge the Calculated OBV to the originial dataframe;\n",
    "    \"\"\" \n",
    "    obv = talib.OBV(stock['Close'], stock['Volume'])\n",
    "    stock['OBV'] = obv\n",
    "    return stock"
   ]
  },
  {
   "cell_type": "code",
   "execution_count": 21,
   "metadata": {},
   "outputs": [],
   "source": [
    "PVH = OBV(PVH,parameters)\n",
    "NKE = OBV(NKE,parameters) \n",
    "GPC = OBV(GPC,parameters)\n",
    "TSCO = OBV(TSCO,parameters)\n",
    "WMT = OBV(WMT,parameters)\n",
    "SHW = OBV(SHW,parameters)\n",
    "HLT = OBV(HLT,parameters)\n",
    "MAR = OBV(MAR,parameters)\n",
    "CCL = OBV(CCL,parameters)\n",
    "NCLH = OBV(NCLH,parameters)\n",
    "RCL = OBV(RCL,parameters)\n",
    "V = OBV(V,parameters)\n",
    "MA = OBV(MA,parameters)\n",
    "CPRI = OBV(CPRI,parameters)\n",
    "PVH_new = OBV(PVH_new,parameters)"
   ]
  },
  {
   "cell_type": "markdown",
   "metadata": {},
   "source": [
    "<h2>Bollinger Bands</h2>\n",
    "\n",
    "It gives the moving average, an upper bound and a lower bound.(2 sigma wide for each side)\n",
    "\n",
    "Middle: 20-days simple moving average\n",
    "\n",
    "<b>Usage:</b>\n",
    "<ol>\n",
    "<li>The closer the price moves to the upper bound, the more overbought the market;\n",
    "<li>The closer the price moves to the lower bound, the more oversold the market.\n",
    "</ol>"
   ]
  },
  {
   "cell_type": "code",
   "execution_count": 22,
   "metadata": {},
   "outputs": [],
   "source": [
    "parameters = [10,15,20,25,30]"
   ]
  },
  {
   "cell_type": "code",
   "execution_count": 23,
   "metadata": {},
   "outputs": [],
   "source": [
    "def BB(stock,parameters):\n",
    "    \"\"\"\n",
    "    1. Calculate Bollinger Bands with given parameters;\n",
    "    2. Merge the Calculated Bollinger Bands to the originial dataframe;\n",
    "    \"\"\"\n",
    "    for parameter in parameters:\n",
    "        upper,middle,lower = talib.BBANDS(stock['Close'], timeperiod=parameter, nbdevup=2, nbdevdn=2, matype=0)\n",
    "        stock[f'UpperBound{parameter}'] = upper\n",
    "        stock[f'Middle{parameter}'] = middle\n",
    "        stock[f'LowerBound{parameter}'] = lower\n",
    "    return stock"
   ]
  },
  {
   "cell_type": "code",
   "execution_count": 24,
   "metadata": {},
   "outputs": [],
   "source": [
    "PVH = BB(PVH,parameters)\n",
    "NKE = BB(NKE,parameters) \n",
    "GPC = BB(GPC,parameters)\n",
    "TSCO = BB(TSCO,parameters)\n",
    "WMT = BB(WMT,parameters)\n",
    "SHW = BB(SHW,parameters)\n",
    "HLT = BB(HLT,parameters)\n",
    "MAR = BB(MAR,parameters)\n",
    "CCL = BB(CCL,parameters)\n",
    "NCLH = BB(NCLH,parameters)\n",
    "RCL = BB(RCL,parameters)\n",
    "V = BB(V,parameters)\n",
    "MA = BB(MA,parameters)\n",
    "CPRI = BB(CPRI,parameters)\n",
    "PVH_new = BB(PVH_new,parameters)"
   ]
  },
  {
   "cell_type": "markdown",
   "metadata": {},
   "source": [
    "<h2>CCI:Commodity Channel Index)</h2>\n",
    "    \n",
    "measures the current price level relative to an average price of a given period.\n",
    "\n",
    "\\begin{align}\n",
    "&CCI = \\frac{TP-MA}{0.015*Mean\\ Deviation} \\\\\n",
    "&TP = \\frac{Low+High+Close}{3} \\\\\n",
    "&MA = 20-days\\ SMA\\ of\\ TP \\\\\n",
    "&Mean\\ Deviation = \\sum_{n}|TP-MA|/n\n",
    "\\end{align}\n",
    "\n",
    "\n",
    "Default parameter: 20\n",
    "\n",
    "<b>Usage:</b>\n",
    "Overbought: CCI<-200 or -100; oversold: CCI>200 or 100\n",
    "\n"
   ]
  },
  {
   "cell_type": "code",
   "execution_count": 25,
   "metadata": {},
   "outputs": [],
   "source": [
    "parameters = [10,15,20,30,40]"
   ]
  },
  {
   "cell_type": "code",
   "execution_count": 26,
   "metadata": {},
   "outputs": [],
   "source": [
    "def CCI(stock,parameters):\n",
    "    \"\"\"\n",
    "    1. Calculate CCI with given parameters;\n",
    "    2. Merge the Calculated CCI to the originial dataframe;\n",
    "    \"\"\"\n",
    "    for parameter in parameters:\n",
    "        cci = talib.CCI(stock['High'], stock['Low'], stock['Close'], timeperiod=parameter)\n",
    "        stock[f'CCI{parameter}'] = cci\n",
    "    return stock"
   ]
  },
  {
   "cell_type": "code",
   "execution_count": 27,
   "metadata": {},
   "outputs": [],
   "source": [
    "PVH = CCI(PVH,parameters)\n",
    "NKE = CCI(NKE,parameters) \n",
    "GPC = CCI(GPC,parameters)\n",
    "TSCO = CCI(TSCO,parameters)\n",
    "WMT = CCI(WMT,parameters)\n",
    "SHW = CCI(SHW,parameters)\n",
    "HLT = CCI(HLT,parameters)\n",
    "MAR = CCI(MAR,parameters)\n",
    "CCL = CCI(CCL,parameters)\n",
    "NCLH = CCI(NCLH,parameters)\n",
    "RCL = CCI(RCL,parameters)\n",
    "V = CCI(V,parameters)\n",
    "MA = CCI(MA,parameters)\n",
    "CPRI = CCI(CPRI,parameters)\n",
    "PVH_new = CCI(PVH_new,parameters)"
   ]
  },
  {
   "cell_type": "markdown",
   "metadata": {},
   "source": [
    "<h2>ATR: Average True Range</h2>\n",
    "\n",
    "measures the market volatility by decomposing the entire range of an asset price for that period.\n",
    "\n",
    "\\begin{align}\n",
    "&TR = max(high,close_{prev})-min(low,close_{prev}) \\\\\n",
    "&ATR_t = \\frac{ATR_{t-1}*(n-1)+TR_t}{n} \\\\\n",
    "\\end{align}\n",
    "\n"
   ]
  },
  {
   "cell_type": "code",
   "execution_count": 28,
   "metadata": {},
   "outputs": [],
   "source": [
    "parameters = [5,10,14,21,63]"
   ]
  },
  {
   "cell_type": "code",
   "execution_count": 29,
   "metadata": {},
   "outputs": [],
   "source": [
    "def ATR(stock,parameters):\n",
    "    \"\"\"\n",
    "    1. Calculate ATR with given parameters;\n",
    "    2. Merge the Calculated ATR to the originial dataframe;\n",
    "    \"\"\"\n",
    "    for parameter in parameters:\n",
    "        atr = talib.ATR(stock['High'], stock['Low'], stock['Close'], timeperiod=parameter)\n",
    "        stock[f'ATR{parameter}'] = atr\n",
    "    return stock"
   ]
  },
  {
   "cell_type": "code",
   "execution_count": 30,
   "metadata": {},
   "outputs": [],
   "source": [
    "PVH = ATR(PVH,parameters)\n",
    "NKE = ATR(NKE,parameters) \n",
    "GPC = ATR(GPC,parameters)\n",
    "TSCO = ATR(TSCO,parameters)\n",
    "WMT = ATR(WMT,parameters)\n",
    "SHW = ATR(SHW,parameters)\n",
    "HLT = ATR(HLT,parameters)\n",
    "MAR = ATR(MAR,parameters)\n",
    "CCL = ATR(CCL,parameters)\n",
    "NCLH = ATR(NCLH,parameters)\n",
    "RCL = ATR(RCL,parameters)\n",
    "V = ATR(V,parameters)\n",
    "MA = ATR(MA,parameters)\n",
    "CPRI = ATR(CPRI,parameters)\n",
    "PVH_new = ATR(PVH_new,parameters)"
   ]
  },
  {
   "cell_type": "markdown",
   "metadata": {},
   "source": [
    "<h2>ADX: Average Directional Momentum Index</h2>\n",
    "\n",
    "<b>Usage:</b> identify whether it is a trending market.\n",
    "\n",
    "It can be used with Plus directional indicator and Minus direcational indicator to generate buy/sell signal."
   ]
  },
  {
   "cell_type": "code",
   "execution_count": 31,
   "metadata": {},
   "outputs": [],
   "source": [
    "parameters = [5,10,14,21,63]"
   ]
  },
  {
   "cell_type": "code",
   "execution_count": 32,
   "metadata": {},
   "outputs": [],
   "source": [
    "def ADX(stock,parameters):\n",
    "    \"\"\"\n",
    "    1. Calculate ADX with given parameters;\n",
    "    2. Merge the Calculated ADX to the originial dataframe;\n",
    "    \"\"\"\n",
    "    for parameter in parameters:\n",
    "        adx = talib.ADX(stock['High'], stock['Low'], stock['Close'], timeperiod=parameter)\n",
    "        pdi = talib.PLUS_DI(stock['High'], stock['Low'], stock['Close'], timeperiod=parameter)\n",
    "        mdi = talib.MINUS_DI(stock['High'], stock['Low'], stock['Close'], timeperiod=parameter)\n",
    "        stock[f'ADX{parameter}'] = adx\n",
    "        stock[f'PDI{parameter}'] = pdi\n",
    "        stock[f'MDI{parameter}'] = mdi\n",
    "    return stock"
   ]
  },
  {
   "cell_type": "code",
   "execution_count": 33,
   "metadata": {},
   "outputs": [],
   "source": [
    "PVH = ADX(PVH,parameters)\n",
    "NKE = ADX(NKE,parameters) \n",
    "GPC = ADX(GPC,parameters)\n",
    "TSCO = ADX(TSCO,parameters)\n",
    "WMT = ADX(WMT,parameters)\n",
    "SHW = ADX(SHW,parameters)\n",
    "HLT = ADX(HLT,parameters)\n",
    "MAR = ADX(MAR,parameters)\n",
    "CCL = ADX(CCL,parameters)\n",
    "NCLH = ADX(NCLH,parameters)\n",
    "RCL = ADX(RCL,parameters)\n",
    "V = ADX(V,parameters)\n",
    "MA = ADX(MA,parameters)\n",
    "CPRI = ADX(CPRI,parameters)\n",
    "PVH_new = ADX(PVH_new,parameters)"
   ]
  },
  {
   "cell_type": "markdown",
   "metadata": {},
   "source": [
    "<h2>MFI: money flow index</h2>\n",
    "\n",
    "is used to identify the overbought/oversold condition.\n",
    "\n",
    "Default parameter: 14\n",
    "\n",
    "\\begin{align}\n",
    "&TP = \\frac{High+Low+Close}{3} \\\\\n",
    "&Raw\\ Money\\ Flow = TP*Volume \\\\\n",
    "&Money\\ Flow\\ Ratio = \\frac{14\\ period\\ positive\\ money\\ flow}{14\\ period\\ negative\\ money\\ flow}\n",
    "\\end{align}\n"
   ]
  },
  {
   "cell_type": "code",
   "execution_count": 34,
   "metadata": {},
   "outputs": [],
   "source": [
    "parameters = [5,10,14,21,63]"
   ]
  },
  {
   "cell_type": "code",
   "execution_count": 35,
   "metadata": {},
   "outputs": [],
   "source": [
    "def MFI(stock,parameters):\n",
    "    \"\"\"\n",
    "    1. Calculate MFI with given parameters;\n",
    "    2. Merge the Calculated MFI to the originial dataframe;\n",
    "    \"\"\"\n",
    "    for parameter in parameters:\n",
    "        mfi = talib.MFI(stock['High'], stock['Low'], stock['Close'], stock['Volume'], timeperiod=parameter)\n",
    "        stock[f'MFI{parameter}'] = mfi\n",
    "    return stock"
   ]
  },
  {
   "cell_type": "code",
   "execution_count": 36,
   "metadata": {},
   "outputs": [],
   "source": [
    "PVH = MFI(PVH,parameters)\n",
    "NKE = MFI(NKE,parameters) \n",
    "GPC = MFI(GPC,parameters)\n",
    "TSCO = MFI(TSCO,parameters)\n",
    "WMT = MFI(WMT,parameters)\n",
    "SHW = MFI(SHW,parameters)\n",
    "HLT = MFI(HLT,parameters)\n",
    "MAR = MFI(MAR,parameters)\n",
    "CCL = MFI(CCL,parameters)\n",
    "NCLH = MFI(NCLH,parameters)\n",
    "RCL = MFI(RCL,parameters)\n",
    "V = MFI(V,parameters)\n",
    "MA = MFI(MA,parameters)\n",
    "CPRI = MFI(CPRI,parameters)\n",
    "PVH_new = MFI(PVH_new,parameters)"
   ]
  },
  {
   "cell_type": "markdown",
   "metadata": {},
   "source": [
    "<h2>Momentum</h2>\n",
    "\n",
    "\\begin{equation}\n",
    "mtm = Close_t-Close_{t-n}\n",
    "\\end{equation}\n",
    "just the price change in last n period."
   ]
  },
  {
   "cell_type": "code",
   "execution_count": 37,
   "metadata": {},
   "outputs": [],
   "source": [
    "parameters = [5,10,20,50,100,200]"
   ]
  },
  {
   "cell_type": "code",
   "execution_count": 38,
   "metadata": {},
   "outputs": [],
   "source": [
    "def MTM(stock,parameters):\n",
    "    \"\"\"\n",
    "    1. Calculate MTM with given parameters;\n",
    "    2. Merge the Calculated MTM to the originial dataframe;\n",
    "    \"\"\"\n",
    "    for parameter in parameters:\n",
    "        mtm = talib.MOM(stock['Close'], timeperiod=parameter)\n",
    "        stock[f'MTM{parameter}'] = mtm\n",
    "    return stock"
   ]
  },
  {
   "cell_type": "code",
   "execution_count": 39,
   "metadata": {},
   "outputs": [],
   "source": [
    "PVH = MTM(PVH,parameters)\n",
    "NKE = MTM(NKE,parameters) \n",
    "GPC = MTM(GPC,parameters)\n",
    "TSCO = MTM(TSCO,parameters)\n",
    "WMT = MTM(WMT,parameters)\n",
    "SHW = MTM(SHW,parameters)\n",
    "HLT = MTM(HLT,parameters)\n",
    "MAR = MTM(MAR,parameters)\n",
    "CCL = MTM(CCL,parameters)\n",
    "NCLH = MTM(NCLH,parameters)\n",
    "RCL = MTM(RCL,parameters)\n",
    "V = MTM(V,parameters)\n",
    "MA = MTM(MA,parameters)\n",
    "CPRI = MTM(CPRI,parameters)\n",
    "PVH_new = MTM(PVH_new,parameters)"
   ]
  },
  {
   "cell_type": "markdown",
   "metadata": {},
   "source": [
    "<h2>CMO: Chande Momentum Oscillator</h2>\n",
    "\n",
    "\\begin{equation}\n",
    "CMO = 100*\\frac{S_u-S_d}{S_u+S_d}\n",
    "\\end{equation}\n",
    "\n",
    "$S_u$: Sum of the difference between the current close and previous close on up days for the specified period.\n",
    "\n",
    "$S_d$:  Sum of the absolute value of the difference between the current close and the previous close on down days for the specified period.\n",
    "\n",
    "<b>Usage:</b>\n",
    "<ol>\n",
    "    <li>Identify overbought/oversold condition\n",
    "    <li>Measures the trend strength\n",
    "</ol>"
   ]
  },
  {
   "cell_type": "code",
   "execution_count": 40,
   "metadata": {},
   "outputs": [],
   "source": [
    "parameters = [5,10,14,21,63]"
   ]
  },
  {
   "cell_type": "code",
   "execution_count": 41,
   "metadata": {},
   "outputs": [],
   "source": [
    "def CMO(stock,parameters):\n",
    "    \"\"\"\n",
    "    1. Calculate CMO with given parameters;\n",
    "    2. Merge the Calculated CMO to the originial dataframe;\n",
    "    \"\"\"\n",
    "    for parameter in parameters:\n",
    "        cmo = talib.CMO(stock['Close'], timeperiod=parameter)\n",
    "        stock[f'CMO{parameter}'] = cmo\n",
    "    return stock"
   ]
  },
  {
   "cell_type": "code",
   "execution_count": 42,
   "metadata": {},
   "outputs": [],
   "source": [
    "PVH = CMO(PVH,parameters)\n",
    "NKE = CMO(NKE,parameters) \n",
    "GPC = CMO(GPC,parameters)\n",
    "TSCO = CMO(TSCO,parameters)\n",
    "WMT = CMO(WMT,parameters)\n",
    "SHW = CMO(SHW,parameters)\n",
    "HLT = CMO(HLT,parameters)\n",
    "MAR = CMO(MAR,parameters)\n",
    "CCL = CMO(CCL,parameters)\n",
    "NCLH = CMO(NCLH,parameters)\n",
    "RCL = CMO(RCL,parameters)\n",
    "V = CMO(V,parameters)\n",
    "MA = CMO(MA,parameters)\n",
    "CPRI = CMO(CPRI,parameters)\n",
    "PVH_new = CMO(PVH_new,parameters)"
   ]
  },
  {
   "cell_type": "markdown",
   "metadata": {},
   "source": [
    "<h2>TRIX: triple exponential average</h2>\n",
    "\n",
    "\\begin{align}\n",
    "M = EMA(EMA(EMA(Close))) \\\\\n",
    "TRIX = \\frac{M_t-M_{t-1}}{M_{t-1}}\n",
    "\\end{align}\n",
    "\n",
    "Identify overbought/oversold condition.\n",
    "\n",
    "Compare with the signal line(9-days EMA of TRIX) to generate buy/sell signal\n",
    "\n",
    "Many analysts believe that when the TRIX crosses above the zero line it gives a buy signal, and when it closes below the zero line, it gives a sell signal."
   ]
  },
  {
   "cell_type": "code",
   "execution_count": 43,
   "metadata": {},
   "outputs": [],
   "source": [
    "parameters = [5,10,14,20,28]"
   ]
  },
  {
   "cell_type": "code",
   "execution_count": 44,
   "metadata": {},
   "outputs": [],
   "source": [
    "def TRIX(stock,parameters):\n",
    "    \"\"\"\n",
    "    1. Calculate TRIX with given parameters;\n",
    "    2. Merge the Calculated TRIX to the originial dataframe;\n",
    "    \"\"\"\n",
    "    for parameter in parameters:\n",
    "        trix = talib.TRIX(stock['Close'], timeperiod=parameter)\n",
    "        stock[f'TRIX{parameter}'] = trix\n",
    "    return stock"
   ]
  },
  {
   "cell_type": "code",
   "execution_count": 45,
   "metadata": {},
   "outputs": [],
   "source": [
    "PVH = TRIX(PVH,parameters)\n",
    "NKE = TRIX(NKE,parameters) \n",
    "GPC = TRIX(GPC,parameters)\n",
    "TSCO = TRIX(TSCO,parameters)\n",
    "WMT = TRIX(WMT,parameters)\n",
    "SHW = TRIX(SHW,parameters)\n",
    "HLT = TRIX(HLT,parameters)\n",
    "MAR = TRIX(MAR,parameters)\n",
    "CCL = TRIX(CCL,parameters)\n",
    "NCLH = TRIX(NCLH,parameters)\n",
    "RCL = TRIX(RCL,parameters)\n",
    "V = TRIX(V,parameters)\n",
    "MA = TRIX(MA,parameters)\n",
    "CPRI = TRIX(CPRI,parameters)\n",
    "PVH_new = TRIX(PVH_new,parameters)"
   ]
  },
  {
   "cell_type": "markdown",
   "metadata": {},
   "source": [
    "<h2>AD:Chaikin Accumulation Distribution Line Oscillator</h2>\n",
    "\n",
    "measure the cumulative flow of money into and out of a security.\n",
    "\n",
    "\\begin{align}\n",
    "&CLV=\\frac{((close-low)-(high-close))}{(high-low)} \\\\\n",
    "&AD={AD_{-1}}+CLV*volume\n",
    "\\end{align}\n",
    "\n",
    "<b>usage:</b>\n",
    "1. identify the price trend;\n",
    "2. If the price is rising but A/D is falling, it signals underlying weakness and a potential decline in price;\n",
    "   If the price of an asset is falling but A/D is rising, it signals underlying strength and the price may start to rise."
   ]
  },
  {
   "cell_type": "code",
   "execution_count": 46,
   "metadata": {},
   "outputs": [],
   "source": [
    "parameters = [(3,10),(6,20)]"
   ]
  },
  {
   "cell_type": "code",
   "execution_count": 47,
   "metadata": {},
   "outputs": [],
   "source": [
    "def AD(stock,parameters):\n",
    "    \"\"\"\n",
    "    1. Calculate AD with given parameters;\n",
    "    2. Merge the Calculated AD to the originial dataframe;\n",
    "    \"\"\"\n",
    "    for parameter in parameters:\n",
    "        ad = talib.ADOSC(stock['High'], stock['Low'], stock['Close'], stock['Volume'], \n",
    "                         fastperiod=parameter[0], slowperiod=parameter[1])\n",
    "        stock[f'AD{parameter[0],parameter[1]}'] = ad\n",
    "    return stock"
   ]
  },
  {
   "cell_type": "code",
   "execution_count": 48,
   "metadata": {},
   "outputs": [],
   "source": [
    "PVH = AD(PVH,parameters)\n",
    "NKE = AD(NKE,parameters) \n",
    "GPC = AD(GPC,parameters)\n",
    "TSCO = AD(TSCO,parameters)\n",
    "WMT = AD(WMT,parameters)\n",
    "SHW = AD(SHW,parameters)\n",
    "HLT = AD(HLT,parameters)\n",
    "MAR = AD(MAR,parameters)\n",
    "CCL = AD(CCL,parameters)\n",
    "NCLH = AD(NCLH,parameters)\n",
    "RCL = AD(RCL,parameters)\n",
    "V = AD(V,parameters)\n",
    "MA = AD(MA,parameters)\n",
    "CPRI = AD(CPRI,parameters)\n",
    "PVH_new = AD(PVH_new,parameters)"
   ]
  },
  {
   "cell_type": "markdown",
   "metadata": {},
   "source": [
    "<h2>VHF:Vertical Horizontal Filter </h2>\n",
    "\n",
    "determines whether prices are in a trending phase or a trading range or congestion phase\n",
    "\n",
    "\\begin{align}\n",
    "&HCP: highest \\ closing \\ price \\\\\n",
    "&LCP: lowest \\ closing \\ price \\\\\n",
    "&VHF =\\frac{ (HCP - LCP)} {Sum \\ of \\ absolute \\ values \\ for \\ n \\ periods}\n",
    "\\end{align}\n",
    "\n",
    "usage:\n",
    "1. determines whether signals are taken from trend or momentum indicators;\n",
    "2. Rising values indicate a trend; Falling values indicate a ranging market; High values precede the end of a trend; Low values precede a trend start."
   ]
  },
  {
   "cell_type": "code",
   "execution_count": 49,
   "metadata": {},
   "outputs": [],
   "source": [
    "parameters=[5,10,14,20,28]"
   ]
  },
  {
   "cell_type": "code",
   "execution_count": 50,
   "metadata": {},
   "outputs": [],
   "source": [
    "def VHF(stock,parameters):\n",
    "    \"\"\"\n",
    "    1. Calculate vhf with given parameters;\n",
    "    2. Merge the Calculated VHF to the originial dataframe; \n",
    "    \"\"\"\n",
    "    for parameter in parameters:\n",
    "        LCP = talib.MIN(stock['Close'], timeperiod=parameter)\n",
    "        HCP = talib.MAX(stock['Close'], timeperiod=parameter)\n",
    "        NUM = HCP - LCP\n",
    "        DEN = abs(stock['Close']-stock['Close'].shift())\n",
    "        DEN = talib.MA(DEN, timeperiod=parameter)*parameter\n",
    "        stock[f'VHF{parameter}']=NUM.div(DEN)\n",
    "    return stock"
   ]
  },
  {
   "cell_type": "code",
   "execution_count": 51,
   "metadata": {},
   "outputs": [],
   "source": [
    "PVH = VHF(PVH,parameters)\n",
    "NKE = VHF(NKE,parameters) \n",
    "GPC = VHF(GPC,parameters)\n",
    "TSCO = VHF(TSCO,parameters)\n",
    "WMT = VHF(WMT,parameters)\n",
    "SHW = VHF(SHW,parameters)\n",
    "HLT = VHF(HLT,parameters)\n",
    "MAR = VHF(MAR,parameters)\n",
    "CCL = VHF(CCL,parameters)\n",
    "NCLH = VHF(NCLH,parameters)\n",
    "RCL = VHF(RCL,parameters)\n",
    "V = VHF(V,parameters)\n",
    "MA = VHF(MA,parameters)\n",
    "CPRI = VHF(CPRI,parameters)\n",
    "PVH_new = VHF(PVH_new,parameters)"
   ]
  },
  {
   "cell_type": "markdown",
   "metadata": {},
   "source": [
    "<h2>BIAS:Bias Ratio</h2>\n",
    "\n",
    "measures how far the returns from an investment portfolio\n",
    "\n",
    "\\begin{align}\n",
    "&BIAS=\\frac{(Close-MA)}{MA}* 100% \n",
    "\\end{align}\n",
    "\n",
    "<b>usage:</b>\n",
    "1. reflects the possibility of price backlash or rebound due to deviation from the moving average trend when the price fluctuates sharply;\n",
    "2. reflects the credibility that the price moves within the normal fluctuation range to continue the original trend;"
   ]
  },
  {
   "cell_type": "code",
   "execution_count": 52,
   "metadata": {},
   "outputs": [],
   "source": [
    "parameters=[5,10,14,20,28]"
   ]
  },
  {
   "cell_type": "code",
   "execution_count": 53,
   "metadata": {},
   "outputs": [],
   "source": [
    "def BIAS(stock,parameters):\n",
    "    \"\"\"\n",
    "    1. Calculate bias ratio with given parameters;\n",
    "    2. Merge the Calculated bias ratio to the originial dataframe; \n",
    "    \"\"\"\n",
    "    for parameter in parameters:\n",
    "        MA = talib.MA(stock['Close'],timeperiod=parameter)\n",
    "        stock[f'BIAS{parameter}']=(stock['Close']-MA)/MA\n",
    "    return stock"
   ]
  },
  {
   "cell_type": "code",
   "execution_count": 54,
   "metadata": {},
   "outputs": [],
   "source": [
    "PVH = BIAS(PVH,parameters)\n",
    "NKE = BIAS(NKE,parameters) \n",
    "GPC = BIAS(GPC,parameters)\n",
    "TSCO = BIAS(TSCO,parameters)\n",
    "WMT = BIAS(WMT,parameters)\n",
    "SHW = BIAS(SHW,parameters)\n",
    "HLT = BIAS(HLT,parameters)\n",
    "MAR = BIAS(MAR,parameters)\n",
    "CCL = BIAS(CCL,parameters)\n",
    "NCLH = BIAS(NCLH,parameters)\n",
    "RCL = BIAS(RCL,parameters)\n",
    "V = BIAS(V,parameters)\n",
    "MA = BIAS(MA,parameters)\n",
    "CPRI = BIAS(CPRI,parameters)\n",
    "PVH_new = BIAS(PVH_new,parameters)"
   ]
  },
  {
   "cell_type": "markdown",
   "metadata": {},
   "source": [
    "<h2>DPO:detrended price oscillator</h2>\n",
    "\n",
    "measures the distance between peaks and troughs in the price/indicator.\n",
    "\n",
    "\\begin{align}\n",
    "Close(t-(1+\\frac{n}{2})) - SMA(n).\n",
    "\\end{align}\n",
    "\n",
    "<b>usage:</b> estimates future peaks to sell or the estimated future troughs to buy\n",
    "\n"
   ]
  },
  {
   "cell_type": "code",
   "execution_count": 55,
   "metadata": {},
   "outputs": [],
   "source": [
    "parameters=[5,10,14,20,28]"
   ]
  },
  {
   "cell_type": "code",
   "execution_count": 56,
   "metadata": {},
   "outputs": [],
   "source": [
    "def DPO(stock,parameters):\n",
    "    \"\"\"\n",
    "    1. Calculate DPO with given parameters;\n",
    "    2. Merge the Calculated DPO to the originial dataframe; \n",
    "    \"\"\"\n",
    "    for parameter in parameters:\n",
    "        p = talib.MA(stock['Close'], timeperiod=parameter)\n",
    "        shift_days = int(1 + parameter/2)\n",
    "        close_shifted = stock['Close'].shift(periods=shift_days)\n",
    "        stock[f'DPO{parameter}']=close_shifted-p\n",
    "    return stock"
   ]
  },
  {
   "cell_type": "code",
   "execution_count": 57,
   "metadata": {},
   "outputs": [],
   "source": [
    "PVH = DPO(PVH,parameters)\n",
    "NKE = DPO(NKE,parameters) \n",
    "GPC = DPO(GPC,parameters)\n",
    "TSCO = DPO(TSCO,parameters)\n",
    "WMT = DPO(WMT,parameters)\n",
    "SHW = DPO(SHW,parameters)\n",
    "HLT = DPO(HLT,parameters)\n",
    "MAR = DPO(MAR,parameters)\n",
    "CCL = DPO(CCL,parameters)\n",
    "NCLH = DPO(NCLH,parameters)\n",
    "RCL = DPO(RCL,parameters)\n",
    "V = DPO(V,parameters)\n",
    "MA = DPO(MA,parameters)\n",
    "CPRI = DPO(CPRI,parameters)\n",
    "PVH_new = DPO(PVH_new,parameters)"
   ]
  },
  {
   "cell_type": "markdown",
   "metadata": {},
   "source": [
    "<h2>PSY:Psychological Line</h2>\n",
    "\n",
    "reflects the buying power in relation to the selling power\n",
    "\n",
    "PSY the percentage of bars that close above the previous candle close within the PLI calculation period. \n",
    "\n",
    "<b>usage</b>:\n",
    "1. relfects who is in control:If PSY is above 50%, it indicates that buyers are in control. Likewise, if it is below 50%, it indicates the sellers are in control. \n",
    "2. reflects divergence signal:When the stock prices make a new high (low) while PSY does not make a new high (low), it signals the divergence."
   ]
  },
  {
   "cell_type": "code",
   "execution_count": 58,
   "metadata": {},
   "outputs": [],
   "source": [
    "parameters = [5,10,14,20,28]"
   ]
  },
  {
   "cell_type": "code",
   "execution_count": 59,
   "metadata": {},
   "outputs": [],
   "source": [
    "def PSY(stock,parameters):\n",
    "    \"\"\"\n",
    "    1. Calculate PSY with given parameters;\n",
    "    2. Merge the Calculated PSY to the originial dataframe; \n",
    "    \"\"\"\n",
    "    for parameter in parameters:\n",
    "        priceData=stock['Close'].values\n",
    "        difference = priceData[1:] - priceData[:-1]\n",
    "        difference = np.append(0, difference)\n",
    "        difference_dir = np.where(difference > 0, 1, 0)\n",
    "        psy = np.zeros((len(priceData),))\n",
    "        psy[:parameter] *= np.nan\n",
    "        for i in range(parameter, len(priceData)):\n",
    "            psy[i] = (difference_dir[i-parameter+1:i+1].sum()) / parameter\n",
    "        psy=psy*100\n",
    "        inde=list(stock.index.values)\n",
    "        psy=pd.Series(psy.tolist(),index=inde)\n",
    "        #print(psy)\n",
    "        stock[f'PSY{parameter}']= psy\n",
    "    return stock"
   ]
  },
  {
   "cell_type": "code",
   "execution_count": 60,
   "metadata": {},
   "outputs": [],
   "source": [
    "PVH = PSY(PVH,parameters)\n",
    "NKE = PSY(NKE,parameters) \n",
    "GPC = PSY(GPC,parameters)\n",
    "TSCO = PSY(TSCO,parameters)\n",
    "WMT = PSY(WMT,parameters)\n",
    "SHW = PSY(SHW,parameters)\n",
    "HLT = PSY(HLT,parameters)\n",
    "MAR = PSY(MAR,parameters)\n",
    "CCL = PSY(CCL,parameters)\n",
    "NCLH = PSY(NCLH,parameters)\n",
    "RCL = PSY(RCL,parameters)\n",
    "V = PSY(V,parameters)\n",
    "MA = PSY(MA,parameters)\n",
    "CPRI = PSY(CPRI,parameters)\n",
    "PVH_new = PSY(PVH_new,parameters)"
   ]
  },
  {
   "cell_type": "markdown",
   "metadata": {},
   "source": [
    "<h2>SAR:Parabolic SAR</h2>\n",
    "\n",
    ". SAR trails price as the trend extends over time.\n"
   ]
  },
  {
   "cell_type": "code",
   "execution_count": 61,
   "metadata": {},
   "outputs": [],
   "source": [
    "parameters=[(0.02,0.2),(0.02,0.1),(0.01,0.2)]"
   ]
  },
  {
   "cell_type": "code",
   "execution_count": 62,
   "metadata": {},
   "outputs": [],
   "source": [
    "def SAR(stock,parameters):\n",
    "    for parameter in parameters:\n",
    "        sar = talib.SAR(stock['High'], stock['Low'], acceleration=parameter[0], maximum=parameter[1])\n",
    "        stock[f'SAR{parameter}'] = sar\n",
    "    return stock"
   ]
  },
  {
   "cell_type": "code",
   "execution_count": 63,
   "metadata": {},
   "outputs": [],
   "source": [
    "PVH = SAR(PVH,parameters)\n",
    "NKE = SAR(NKE,parameters) \n",
    "GPC = SAR(GPC,parameters)\n",
    "TSCO = SAR(TSCO,parameters)\n",
    "WMT = SAR(WMT,parameters)\n",
    "SHW = SAR(SHW,parameters)\n",
    "HLT = SAR(HLT,parameters)\n",
    "MAR = SAR(MAR,parameters)\n",
    "CCL = SAR(CCL,parameters)\n",
    "NCLH = SAR(NCLH,parameters)\n",
    "RCL = SAR(RCL,parameters)\n",
    "V = SAR(V,parameters)\n",
    "MA = SAR(MA,parameters)\n",
    "CPRI = SAR(CPRI,parameters)\n",
    "PVH_new = SAR(PVH_new,parameters)"
   ]
  },
  {
   "cell_type": "code",
   "execution_count": 64,
   "metadata": {},
   "outputs": [],
   "source": [
    "PVH.to_csv(\"PVH+TI.csv\")\n",
    "NKE.to_csv(\"NKE+TI.csv\") \n",
    "GPC.to_csv(\"GPC+TI.csv\")\n",
    "TSCO.to_csv(\"TSCO+TI.csv\")\n",
    "WMT.to_csv(\"WMT+TI.csv\")\n",
    "SHW.to_csv(\"SHW+TI.csv\")\n",
    "HLT.to_csv(\"HLT+TI.csv\")\n",
    "MAR.to_csv(\"MAR+TI.csv\")\n",
    "CCL.to_csv(\"CCL+TI.csv\")\n",
    "NCLH.to_csv(\"NCLH+TI.csv\")\n",
    "RCL.to_csv(\"RCL+TI.csv\")\n",
    "V.to_csv(\"V+TI.csv\")\n",
    "MA.to_csv(\"MA+TI.csv\")\n",
    "CPRI.to_csv(\"CPRI+TI.csv\")\n",
    "PVH_new.to_csv('PVHnew+TI.csv')"
   ]
  }
 ],
 "metadata": {
  "kernelspec": {
   "display_name": "Python 3",
   "language": "python",
   "name": "python3"
  },
  "language_info": {
   "codemirror_mode": {
    "name": "ipython",
    "version": 3
   },
   "file_extension": ".py",
   "mimetype": "text/x-python",
   "name": "python",
   "nbconvert_exporter": "python",
   "pygments_lexer": "ipython3",
   "version": "3.7.3"
  }
 },
 "nbformat": 4,
 "nbformat_minor": 2
}
